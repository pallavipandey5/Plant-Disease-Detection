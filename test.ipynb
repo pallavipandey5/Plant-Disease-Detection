{
 "cells": [
  {
   "cell_type": "code",
   "execution_count": null,
   "metadata": {},
   "outputs": [],
   "source": [
    "cfg.MODEL.WEIGHTS =(r\"/path/to/output/best_model.pth\") \n",
    "cfg.MODEL.DEVICE = 'cpu'\n",
    "cfg.MODEL.ROI_HEADS.SCORE_THRESH_TEST = 0.3\n",
    "cfg.DATASETS.TEST = (r\"/path/to/output/best_model.pth\", )\n",
    "predictor = DefaultPredictor(cfg)  "
   ]
  },
  {
   "cell_type": "code",
   "execution_count": null,
   "metadata": {},
   "outputs": [],
   "source": [
    "dataset_dicts_T = get_leaf_dicts(r'/path/to/all_test')"
   ]
  },
  {
   "cell_type": "code",
   "execution_count": null,
   "metadata": {},
   "outputs": [],
   "source": [
    "import random\n",
    "from detectron2.utils.visualizer import ColorMode\n",
    "dataset_dicts_T = get_leaf_dicts(r'path/to/all_test')\n",
    "for dT in random.sample(dataset_dicts_T, 3):    \n",
    "    im = cv2.imread(dT[\"file_name\"])\n",
    "    outputs = predictor(im)\n",
    "    v = Visualizer(im[:, :, ::-1],\n",
    "                   metadata=leaf_metadata, \n",
    "                   scale=0.8, \n",
    "                   instance_mode=ColorMode.IMAGE_BW   # remove the colors of unsegmented pixels\n",
    "    )\n",
    "    v = v.draw_instance_predictions(outputs[\"instances\"].to(\"cpu\"))\n",
    "    \n",
    "    plt.figure(figsize = (14, 10))\n",
    "    plt.imshow(cv2.cvtColor(v.get_image()[:, :, ::-1], cv2.COLOR_BGR2RGB))\n",
    "    plt.show()"
   ]
  }
 ],
 "metadata": {
  "language_info": {
   "name": "python"
  }
 },
 "nbformat": 4,
 "nbformat_minor": 2
}
