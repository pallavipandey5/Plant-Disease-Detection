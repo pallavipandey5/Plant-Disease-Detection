{
 "cells": [
  {
   "cell_type": "code",
   "execution_count": null,
   "metadata": {},
   "outputs": [],
   "source": [
    "import torch\n",
    "import detectron2\n",
    "from detectron2.utils.logger import setup_logger\n",
    "setup_logger()\n",
    "# import some common libraries\n",
    "import numpy as np\n",
    "import cv2\n",
    "import matplotlib.pyplot as plt\n",
    "import warnings\n",
    "warnings.filterwarnings('ignore')\n",
    "# import some common detectron2 utilities\n",
    "from detectron2 import model_zoo\n",
    "from detectron2.engine import DefaultPredictor\n",
    "from detectron2.config import get_cfg\n",
    "from detectron2.utils.visualizer import Visualizer\n",
    "\n",
    "from detectron2.data import MetadataCatalog, DatasetCatalog\n",
    "TORCH_VERSION = \".\".join(torch.__version__.split(\".\")[:2])\n",
    "CUDA_VERSION = torch.__version__.split(\"+\")[-1]\n",
    "print(\"torch: \", TORCH_VERSION, \"; cuda: \", CUDA_VERSION)"
   ]
  },
  {
   "cell_type": "code",
   "execution_count": null,
   "metadata": {},
   "outputs": [],
   "source": [
    "from shapely.geometry import Polygon\n",
    "import os\n",
    "import numpy as np\n",
    "import json\n",
    "from detectron2.structures import BoxMode\n",
    "from detectron2.data import DatasetCatalog, MetadataCatalog\n",
    "\n",
    "if \"disease_train_defect_only\" in DatasetCatalog.list():\n",
    "    DatasetCatalog.remove(\"disease_train_defect_only\")\n",
    "    DatasetCatalog.remove(\"disease_all_test\")\n",
    "\n",
    "def get_leaf_dicts(directory, min_annotation_area=10000):  # Set a suitable threshold for min_annotation_area\n",
    "    class_name = 'disease'\n",
    "    dataset_dicts = []\n",
    "    \n",
    "    for idx, filename in enumerate([file for file in os.listdir(directory) if file.endswith('.json')]):\n",
    "        json_file = os.path.join(directory, filename)\n",
    "        with open(json_file) as f:\n",
    "            img_anns = json.load(f)\n",
    "\n",
    "        record = {}\n",
    "        name = filename.split('.')\n",
    "        record[\"file_name\"] = os.path.join(directory, name[0] + '.JPG')\n",
    "        record[\"image_id\"] = idx\n",
    "        record[\"height\"] = 4000\n",
    "        record[\"width\"] = 6000\n",
    "\n",
    "        annos = img_anns[\"shapes\"]\n",
    "        objs = []\n",
    "        for anno in annos:\n",
    "            label = anno['label']\n",
    "            if label != class_name:\n",
    "                continue  # Skip annotations of other classes\n",
    "\n",
    "            px = [a[0] for a in anno['points']]\n",
    "            py = [a[1] for a in anno['points']]\n",
    "            poly = [(x, y) for x, y in zip(px, py)]\n",
    "            poly = [p for x in poly for p in x]\n",
    "\n",
    "            # Calculate the annotation area using Shapely\n",
    "            annotation_polygon = Polygon([(px[i], py[i]) for i in range(len(px))])\n",
    "            annotation_area = annotation_polygon.area\n",
    "\n",
    "            # Filter out annotations with small area\n",
    "            if annotation_area >= min_annotation_area:\n",
    "                obj = {\n",
    "                    \"bbox\": [np.min(px), np.min(py), np.max(px), np.max(py)],\n",
    "                    \"bbox_mode\": BoxMode.XYXY_ABS,\n",
    "                    \"segmentation\": [poly],\n",
    "                    \"category_id\": 0,\n",
    "                    \"iscrowd\": 0\n",
    "                }\n",
    "                objs.append(obj)\n",
    "        \n",
    "        if objs:\n",
    "            record[\"annotations\"] = objs\n",
    "            dataset_dicts.append(record)\n",
    "    \n",
    "    return dataset_dicts\n"
   ]
  },
  {
   "cell_type": "code",
   "execution_count": null,
   "metadata": {},
   "outputs": [],
   "source": [
    "for d in [\"all_train\", \"all_test\"]:\n",
    "    DatasetCatalog.register(\"diseases_\" + d, lambda d=d: get_leaf_dicts(r'path/to/all_train_and_all_test_folder' + d))\n",
    "    MetadataCatalog.get(\"diseases_\" + d).set(thing_classes=['disease'])\n",
    "leaf_metadata = MetadataCatalog.get(\"diseases_all_train\")"
   ]
  },
  {
   "cell_type": "code",
   "execution_count": null,
   "metadata": {},
   "outputs": [],
   "source": [
    "dataset_dicts = get_leaf_dicts(r'/home/pallavi/more_data/data/all_train')"
   ]
  },
  {
   "cell_type": "code",
   "execution_count": null,
   "metadata": {},
   "outputs": [],
   "source": [
    "from detectron2.engine import DefaultTrainer\n",
    "from detectron2.config import get_cfg\n",
    "\n",
    "cfg = get_cfg()\n",
    "\n",
    "cfg_file_path =r\"/path/to/detectron2/configs/COCO-InstanceSegmentation/mask_rcnn_R_101_FPN_3x.yaml\"\n",
    "#cfg.merge_from_file(model_zoo.get_config_file(\"COCO-InstanceSegmentation/mask_rcnn_R_50_FPN_3x.yaml\"))\n",
    "cfg.merge_from_file(cfg_file_path)"
   ]
  },
  {
   "cell_type": "code",
   "execution_count": null,
   "metadata": {},
   "outputs": [],
   "source": [
    "#print(get_config_file(\"COCO-InstanceSegmentation/mask_rcnn_R_50_FPN_3x.yaml\"))\n",
    "cfg.DATASETS.TRAIN = (\"diseases_all_train\")\n",
    "cfg.DATASETS.TEST = ()\n",
    "cfg.DATALOADER.NUM_WORKERS = 2\n",
    "cfg.MODEL.WEIGHTS = model_zoo.get_checkpoint_url(\"COCO-InstanceSegmentation/mask_rcnn_R_101_FPN_3x.yaml\")\n",
    "print(cfg.MODEL.WEIGHTS)\n",
    "cfg.SOLVER.IMS_PER_BATCH = 3\n",
    "cfg.SOLVER.BASE_LR = 0.0025\n",
    "cfg.SOLVER.MAX_ITER = 20000\n",
    "cfg.SOLVER.STEPS = []        # do not decay learning rate\n",
    "cfg.MODEL.ROI_HEADS.NUM_CLASSES = 1"
   ]
  },
  {
   "cell_type": "code",
   "execution_count": null,
   "metadata": {},
   "outputs": [],
   "source": [
    "os.makedirs(cfg.OUTPUT_DIR, exist_ok=True)\n",
    "\n",
    "save_period = 100  # Save every 50 epochs\n",
    "save_callback = SaveModelCallback(cfg.OUTPUT_DIR, save_period)\n",
    "trainer = DefaultTrainer(cfg) \n",
    "trainer.register_hooks([save_callback])\n",
    "trainer.resume_or_load(resume=False)\n",
    "trainer.train()"
   ]
  }
 ],
 "metadata": {
  "language_info": {
   "name": "python"
  }
 },
 "nbformat": 4,
 "nbformat_minor": 2
}
